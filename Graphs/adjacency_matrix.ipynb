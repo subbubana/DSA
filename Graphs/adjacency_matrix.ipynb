{
 "cells": [
  {
   "cell_type": "markdown",
   "id": "4b43d230",
   "metadata": {},
   "source": [
    "#### Adjacency Matrix\n",
    "\n",
    "\n",
    "An VxV matrix where matrix[i][j] is 1 (or True) if an edge exists between vertex i and vertex j, and 0 (or False) otherwise. For weighted graphs, matrix[i][j] would store the weight.\n",
    "\n",
    "Pros:\n",
    "\n",
    "- Checking if an edge exists between u and v is O(1).\n",
    "\n",
    "- Simple to implement for dense graphs.\n",
    "\n",
    "Cons:\n",
    "\n",
    "- Requires O(V^2) space, even for sparse graphs (many zeros). This can be very inefficient if you have many vertices but few connections.\n",
    "\n",
    "- Finding all neighbors of a vertex requires iterating through an entire row/column (O(V) time)."
   ]
  },
  {
   "cell_type": "code",
   "execution_count": 2,
   "id": "40347b4a",
   "metadata": {},
   "outputs": [
    {
     "name": "stdout",
     "output_type": "stream",
     "text": [
      "[[0, 0, 0, 0, 0], [0, 0, 0, 0, 0], [0, 0, 0, 0, 0], [0, 0, 0, 0, 0], [0, 0, 0, 0, 0]]\n",
      "[[0, 1, 0, 0, 0], [1, 0, 0, 0, 0], [0, 0, 0, 0, 0], [0, 0, 0, 0, 0], [0, 0, 0, 0, 0]]\n",
      "[[0, 1, 0, 0, 1], [1, 0, 0, 0, 0], [0, 0, 0, 0, 0], [0, 0, 0, 0, 0], [1, 0, 0, 0, 0]]\n",
      "[[0, 1, 0, 0, 1], [1, 0, 1, 0, 0], [0, 1, 0, 0, 0], [0, 0, 0, 0, 0], [1, 0, 0, 0, 0]]\n",
      "[[0, 1, 0, 0, 1], [1, 0, 1, 1, 0], [0, 1, 0, 0, 0], [0, 1, 0, 0, 0], [1, 0, 0, 0, 0]]\n",
      "[[0, 1, 0, 0, 1], [1, 0, 1, 1, 1], [0, 1, 0, 0, 0], [0, 1, 0, 0, 0], [1, 1, 0, 0, 0]]\n",
      "[[0, 1, 0, 0, 1], [1, 0, 0, 1, 1], [0, 0, 0, 1, 0], [0, 1, 1, 0, 0], [1, 1, 0, 0, 0]]\n",
      "[[0, 1, 0, 1, 1], [1, 0, 0, 1, 1], [0, 0, 0, 1, 0], [0, 1, 1, 0, 0], [1, 1, 0, 0, 0]]\n",
      "Edge (0,2) exists: False\n",
      "Edge (0,1) exists: True\n"
     ]
    }
   ],
   "source": [
    "# For an undirected, unweighted graph with 5 vertices (0 to 4)\n",
    "# Example edges: (0,1), (0,4), (1,2), (1,3), (1,4), (2,3), (3,4)\n",
    "\n",
    "num_vertices = 5\n",
    "adj_matrix = [[0] * num_vertices for _ in range(num_vertices)]\n",
    "\n",
    "print(adj_matrix)\n",
    "\n",
    "# Add edges (undirected)\n",
    "def add_edge_matrix(u, v):\n",
    "    adj_matrix[u][v] = 1\n",
    "    adj_matrix[v][u] = 1 # For undirected graph\n",
    "\n",
    "add_edge_matrix(0, 1)\n",
    "print(adj_matrix)\n",
    "add_edge_matrix(0, 4)\n",
    "print(adj_matrix)\n",
    "add_edge_matrix(1, 2)\n",
    "print(adj_matrix)\n",
    "add_edge_matrix(1, 3)\n",
    "print(adj_matrix)\n",
    "add_edge_matrix(1, 4)\n",
    "print(adj_matrix)\n",
    "add_edge_matrix(2, 3)\n",
    "# add_edge_matrix(1, 2)\n",
    "# add_edge_matrix(1, 3)\n",
    "# add_edge_matrix(1, 4)\n",
    "# add_edge_matrix(2, 3)\n",
    "# add_edge_matrix(3, 4)\n",
    "\n",
    "# print(\"Adjacency Matrix:\")\n",
    "# for row in adj_matrix:\n",
    "#     print(row)\n",
    "\n",
    "def remove_edge_matrix(u, v):\n",
    "    adj_matrix[u][v] = 0\n",
    "    adj_matrix[v][u] = 0\n",
    "\n",
    "remove_edge_matrix(1, 2)\n",
    "print(adj_matrix)\n",
    "\n",
    "def add_directed_edge_matrix(u, v):\n",
    "    adj_matrix[u][v] = 1 # For directed graph\n",
    "\n",
    "add_directed_edge_matrix(0, 3)\n",
    "print(adj_matrix)\n",
    "\n",
    "# # Check if edge exists:\n",
    "print(f\"Edge (0,2) exists: {adj_matrix[0][2] == 1}\")\n",
    "print(f\"Edge (0,1) exists: {adj_matrix[0][1] == 1}\")"
   ]
  },
  {
   "cell_type": "markdown",
   "id": "493a7d27",
   "metadata": {},
   "source": []
  }
 ],
 "metadata": {
  "kernelspec": {
   "display_name": "Python 3",
   "language": "python",
   "name": "python3"
  },
  "language_info": {
   "codemirror_mode": {
    "name": "ipython",
    "version": 3
   },
   "file_extension": ".py",
   "mimetype": "text/x-python",
   "name": "python",
   "nbconvert_exporter": "python",
   "pygments_lexer": "ipython3",
   "version": "3.13.2"
  }
 },
 "nbformat": 4,
 "nbformat_minor": 5
}
