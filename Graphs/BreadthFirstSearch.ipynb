{
 "cells": [
  {
   "cell_type": "markdown",
   "id": "dde46c6d",
   "metadata": {},
   "source": [
    "#### Breadth-First Search (BFS)\n",
    "BFS explores the graph level by level. It starts at a source node, visits all its immediate neighbors, then all their unvisited neighbors, and so on. It uses a queue data structure.\n",
    "\n",
    "Analogy: Ripples in a pond.\n",
    "\n",
    "**When to Use:**\n",
    "- Finding the shortest path in an unweighted graph (number of edges).\n",
    "- Finding all nodes within a certain \"distance\" from a source.\n",
    "- Web crawlers (explore pages level by level).\n",
    "- Finding connected components.\n",
    "- **Time Complexity:** O(V+E) (each vertex and each edge is visited at most once).\n",
    "- **Space Complexity:** O(V) (for the queue and visited set)."
   ]
  },
  {
   "cell_type": "code",
   "execution_count": null,
   "id": "6bb34e8e",
   "metadata": {},
   "outputs": [
    {
     "name": "stdout",
     "output_type": "stream",
     "text": [
      "BFS Traversal starting from 0:\n",
      "0\n",
      "neighbor: 1\n",
      "visited: {0, 1}\n",
      "queue: deque([1])\n",
      "--------------------------------\n",
      "neighbor: 4\n",
      "visited: {0, 1, 4}\n",
      "queue: deque([1, 4])\n",
      "--------------------------------\n",
      "1\n",
      "neighbor: 0\n",
      "neighbor: 2\n",
      "visited: {0, 1, 2, 4}\n",
      "queue: deque([4, 2])\n",
      "--------------------------------\n",
      "neighbor: 3\n",
      "visited: {0, 1, 2, 3, 4}\n",
      "queue: deque([4, 2, 3])\n",
      "--------------------------------\n",
      "neighbor: 4\n",
      "4\n",
      "neighbor: 0\n",
      "neighbor: 1\n",
      "neighbor: 3\n",
      "2\n",
      "neighbor: 1\n",
      "neighbor: 3\n",
      "3\n",
      "neighbor: 1\n",
      "neighbor: 2\n",
      "neighbor: 4\n"
     ]
    }
   ],
   "source": [
    "from collections import deque\n",
    "\n",
    "def bfs(graph, start_node):\n",
    "    visited = set() # To keep track of visited nodes\n",
    "    queue = deque([start_node]) # Queue for nodes to visit\n",
    "    visited.add(start_node)\n",
    "\n",
    "    print(f\"BFS Traversal starting from {start_node}:\")\n",
    "    while queue: #loop ends when all the nodes are visited, which is when the queue is empty\n",
    "        current_node = queue.popleft() # Dequeue the front node -- This is the current node\n",
    "        print(current_node)\n",
    "        print(\"beginining queue:\",queue)\n",
    "\n",
    "        # Visit all unvisited neighbors\n",
    "        for neighbor in graph[current_node]:\n",
    "            print(\"neighbor:\",neighbor)\n",
    "            if neighbor not in visited:\n",
    "                visited.add(neighbor)\n",
    "                print(\"visited:\",visited)\n",
    "                queue.append(neighbor)\n",
    "                print(\"queue:\",queue) # Enqueue neighbor -- only add to queue if not visited and you will \n",
    "                                    #have only one node at a time in the queue; \n",
    "                print(\"--------------------------------\")\n",
    "\n",
    "# Example Usage with the unweighted, undirected adj_list from above:\n",
    "adj_list = {0: [1, 4], 1: [0, 2, 3, 4], 4: [0, 1, 3], 2: [1, 3], 3: [1, 2, 4]}\n",
    "bfs(adj_list, 0) # Output: 0 1 4 2 3"
   ]
  }
 ],
 "metadata": {
  "kernelspec": {
   "display_name": "Python 3",
   "language": "python",
   "name": "python3"
  },
  "language_info": {
   "codemirror_mode": {
    "name": "ipython",
    "version": 3
   },
   "file_extension": ".py",
   "mimetype": "text/x-python",
   "name": "python",
   "nbconvert_exporter": "python",
   "pygments_lexer": "ipython3",
   "version": "3.13.2"
  }
 },
 "nbformat": 4,
 "nbformat_minor": 5
}
