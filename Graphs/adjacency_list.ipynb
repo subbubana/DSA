{
 "cells": [
  {
   "cell_type": "markdown",
   "id": "4b43d230",
   "metadata": {},
   "source": [
    "#### Adjacency List\n",
    "A more common and generally preferred representation. It's an array or dictionary where each index/key represents a vertex, and its value is a list (or set) of its neighbors.\n",
    "\n",
    "##### Pros:\n",
    "\n",
    "- Space efficient for sparse graphs: O(V+E) space.\n",
    "- Finding all neighbors of a vertex is efficient: O(textdegreeofvertex).\n",
    "\n",
    "##### Cons:\n",
    "\n",
    "- Checking if an edge exists between u and v can take O(textdegreeofu) time (linear scan of u's neighbors), unless you use a hash set for neighbors, which brings it to O(1) on average."
   ]
  },
  {
   "cell_type": "markdown",
   "id": "5d198917",
   "metadata": {},
   "source": [
    "Python Implementation (Adjacency List):\n",
    "\n",
    "We typically use a dictionary where keys are vertices and values are lists/sets of adjacent vertices. collections.defaultdict is incredibly handy here.\n",
    "\n"
   ]
  },
  {
   "cell_type": "code",
   "execution_count": 1,
   "id": "40347b4a",
   "metadata": {},
   "outputs": [
    {
     "name": "stdout",
     "output_type": "stream",
     "text": [
      "\n",
      "Adjacency List (Unweighted, Undirected):\n",
      "0: [1, 4]\n",
      "1: [0, 2, 3, 4]\n",
      "4: [0, 1, 3]\n",
      "2: [1, 3]\n",
      "3: [1, 2, 4]\n",
      "\n",
      "Adjacency List (Weighted, Directed Example):\n",
      "Edge (0,2) exists in unweighted: False\n"
     ]
    }
   ],
   "source": [
    "from collections import defaultdict\n",
    "\n",
    "# For an undirected, unweighted graph with 5 vertices (0 to 4)\n",
    "# Example edges: (0,1), (0,4), (1,2), (1,3), (1,4), (2,3), (3,4)\n",
    "\n",
    "# Using defaultdict for convenience\n",
    "adj_list = defaultdict(list) # For unweighted, undirected\n",
    "# adj_list = defaultdict(dict) # For weighted, undirected (e.g., adj_list[u][v] = weight)\n",
    "\n",
    "def add_edge_list(u, v, weight=1, is_directed=False):\n",
    "    if is_directed:\n",
    "        # For directed: u -> v\n",
    "        if weight == 1: # Unweighted\n",
    "            adj_list[u].append(v)\n",
    "        else: # Weighted\n",
    "            adj_list[u].append((v, weight)) # Store (neighbor, weight) tuple\n",
    "    else:\n",
    "        # For undirected: u <-> v\n",
    "        if weight == 1: # Unweighted\n",
    "            adj_list[u].append(v)\n",
    "            adj_list[v].append(u)\n",
    "        else: # Weighted\n",
    "            adj_list[u].append((v, weight))\n",
    "            adj_list[v].append((u, weight))\n",
    "\n",
    "# Add undirected, unweighted edges\n",
    "add_edge_list(0, 1)\n",
    "add_edge_list(0, 4)\n",
    "add_edge_list(1, 2)\n",
    "add_edge_list(1, 3)\n",
    "add_edge_list(1, 4)\n",
    "add_edge_list(2, 3)\n",
    "add_edge_list(3, 4)\n",
    "\n",
    "print(\"\\nAdjacency List (Unweighted, Undirected):\")\n",
    "for node, neighbors in adj_list.items():\n",
    "    print(f\"{node}: {neighbors}\")\n",
    "\n",
    "# Example for a directed, weighted graph\n",
    "print(\"\\nAdjacency List (Weighted, Directed Example):\")\n",
    "directed_weighted_graph = defaultdict(list)\n",
    "add_edge_list(0, 1, weight=10, is_directed=True)\n",
    "add_edge_list(0, 2, weight=5, is_directed=True)\n",
    "add_edge_list(1, 2, weight=2, is_directed=True)\n",
    "add_edge_list(2, 3, weight=12, is_directed=True)\n",
    "\n",
    "for node, neighbors in directed_weighted_graph.items():\n",
    "    print(f\"{node}: {neighbors}\")\n",
    "\n",
    "# Check if edge exists:\n",
    "# For list of neighbors: O(degree)\n",
    "print(f\"Edge (0,2) exists in unweighted: {2 in adj_list[0]}\")\n",
    "# For weighted list, you might iterate or use a set of neighbors for O(1) check"
   ]
  },
  {
   "cell_type": "markdown",
   "id": "7686e871",
   "metadata": {},
   "source": [
    "**Pro Tip for Adjacency Lists:**\n",
    "For faster in checks on neighbors (e.g., if neighbor_node in adj_list[current_node]), consider using defaultdict(set) instead of defaultdict(list). Sets offer O(1) average time for membership testing and addition, while lists are O(k) where k is the number of neighbors. If you need to allow duplicate edges, then list is fine."
   ]
  },
  {
   "cell_type": "markdown",
   "id": "493a7d27",
   "metadata": {},
   "source": []
  }
 ],
 "metadata": {
  "kernelspec": {
   "display_name": "Python 3",
   "language": "python",
   "name": "python3"
  },
  "language_info": {
   "codemirror_mode": {
    "name": "ipython",
    "version": 3
   },
   "file_extension": ".py",
   "mimetype": "text/x-python",
   "name": "python",
   "nbconvert_exporter": "python",
   "pygments_lexer": "ipython3",
   "version": "3.13.2"
  }
 },
 "nbformat": 4,
 "nbformat_minor": 5
}
